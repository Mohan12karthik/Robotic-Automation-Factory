{
 "cells": [
  {
   "cell_type": "code",
   "execution_count": 1,
   "id": "ede782aa",
   "metadata": {},
   "outputs": [
    {
     "name": "stdout",
     "output_type": "stream",
     "text": [
      "Enter the package dimensions and mass:\n",
      "Width (cm): 100\n",
      "Height (cm): 150\n",
      "Length (cm): 120\n",
      "Mass (kg): 18\n",
      "The package should be dispatched to the 'SPECIAL' stack.\n"
     ]
    }
   ],
   "source": [
    "def sort(width, height, length, mass):\n",
    "    \n",
    "    bulky = (width * height * length >= 1000000) or (width >= 150 or height >= 150 or length >= 150)\n",
    "    heavy=0\n",
    "    if mass>=20:\n",
    "        heavy=mass\n",
    "\n",
    "\n",
    "    if bulky and heavy:\n",
    "        return \"REJECTED\"\n",
    "    elif bulky or heavy:\n",
    "        return \"SPECIAL\"\n",
    "    else:\n",
    "        return \"STANDARD\"\n",
    "\n",
    "def main():\n",
    "\n",
    "    print(\"Enter the package dimensions and mass:\")\n",
    "    try:\n",
    "        width = float(input(\"Width (cm): \"))\n",
    "        height = float(input(\"Height (cm): \"))\n",
    "        length = float(input(\"Length (cm): \"))\n",
    "        mass = float(input(\"Mass (kg): \"))\n",
    "        \n",
    "        result = sort(width, height, length, mass)\n",
    "        \n",
    "        print(f\"The package should be dispatched to the '{result}' stack.\")\n",
    "    except ValueError:\n",
    "        print(\"Invalid input. Please enter numeric values for dimensions and mass.\")\n",
    "\n",
    "if __name__ == \"__main__\":\n",
    "    main()"
   ]
  },
  {
   "cell_type": "code",
   "execution_count": null,
   "id": "cf96c5aa",
   "metadata": {},
   "outputs": [],
   "source": []
  }
 ],
 "metadata": {
  "kernelspec": {
   "display_name": "Python 3 (ipykernel)",
   "language": "python",
   "name": "python3"
  },
  "language_info": {
   "codemirror_mode": {
    "name": "ipython",
    "version": 3
   },
   "file_extension": ".py",
   "mimetype": "text/x-python",
   "name": "python",
   "nbconvert_exporter": "python",
   "pygments_lexer": "ipython3",
   "version": "3.11.5"
  }
 },
 "nbformat": 4,
 "nbformat_minor": 5
}
